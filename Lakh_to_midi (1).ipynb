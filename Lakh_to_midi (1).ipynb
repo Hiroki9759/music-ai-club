{
  "nbformat": 4,
  "nbformat_minor": 0,
  "metadata": {
    "colab": {
      "name": "Lakh_to_midi.ipynb",
      "provenance": [],
      "collapsed_sections": []
    },
    "kernelspec": {
      "name": "python3",
      "display_name": "Python 3"
    },
    "language_info": {
      "name": "python"
    }
  },
  "cells": [
    {
      "cell_type": "markdown",
      "source": [
        "\"\"\"\n",
        "参考URL\n",
        "https://github.com/salu133445/ismir2019tutorial/blob/main/musegan.ipynb\n",
        "https://salu133445.github.io/pypianoroll/read_write.html\n",
        "midi→楽器ごとのmidi化はmidi_to_independent_instrument_midi.py で行えます。\n",
        "\"\"\""
      ],
      "metadata": {
        "id": "-ISDi35wa9nT"
      }
    },
    {
      "cell_type": "code",
      "source": [
        "# !pip3 install torch matplotlib tqdm ipywidgets livelossplot gdown \"pypianoroll>=1.0.2\"\n",
        "\n",
        "from ipywidgets import interact, IntSlider\n",
        "import os\n",
        "import os.path\n",
        "from pathlib import Path\n",
        "import pypianoroll\n",
        "from pypianoroll import Multitrack, Track"
      ],
      "metadata": {
        "id": "8BfIHFRka_yz"
      },
      "execution_count": null,
      "outputs": []
    },
    {
      "cell_type": "code",
      "source": [
        "#midiファイル保存用のディレクトリを作成\n",
        "lakh_midi_dir=\"lakh_midi_dir\"\n",
        "if not os.path.isdir(lakh_midi_dir):\n",
        "        os.mkdir(lakh_midi_dir)"
      ],
      "metadata": {
        "id": "td7nlssqbDV3"
      },
      "execution_count": null,
      "outputs": []
    },
    {
      "cell_type": "code",
      "source": [
        "#dataフォルダを作成後その配下にlack pianoroll dataset(npz形式)を保存\n",
        "!mkdir -p data\n",
        "\n",
        "!gdown -O data/lpd_5_cleansed.tar.gz https://drive.google.com/uc?id=1yz0Ma-6cWTl6mhkrLnAVJ7RNzlQRypQ5\n",
        "!gdown -O data/id_lists_amg.tar.gz https://drive.google.com/uc?id=1hp9b_g1hu_dkP4u8h46iqHeWMaUoI07R\n",
        "!gdown -O data/id_lists_lastfm.tar.gz https://drive.google.com/uc?id=1mpsoxU2fU1AjKopkcQ8Q8V6wYmVPbnPO\n",
        "\n",
        "!tar zxf data/lpd_5_cleansed.tar.gz -C data/\n",
        "!tar zxf data/id_lists_amg.tar.gz -C data/\n",
        "!tar zxf data/id_lists_lastfm.tar.gz -C data/"
      ],
      "metadata": {
        "id": "kCzWJVrRbDTu"
      },
      "execution_count": null,
      "outputs": []
    },
    {
      "cell_type": "markdown",
      "source": [
        "amgフォルダ:楽曲ジャンルごとに楽曲idリストが書かれているtxtファイルが入っているフォルダ\n",
        "\n",
        "全txtを参照しているので、lpd_5_cleansedの全曲のリストがid\n",
        "\n",
        "ジャンルごとに分けたいなら、amg以下の階層でpath渡せば何とかなると思います。"
      ],
      "metadata": {
        "id": "P5tnLXsQbMf_"
      }
    },
    {
      "cell_type": "code",
      "source": [
        "dataset_root = Path(\"data/lpd_5/lpd_5_cleansed/\")\n",
        "id_list = []\n",
        "\n",
        "for path in os.listdir(\"data/amg\"):\n",
        "    filepath = os.path.join(\"data/amg\", path)\n",
        "    if os.path.isfile(filepath):\n",
        "        with open(filepath) as f:\n",
        "            id_list.extend([line.rstrip() for line in f])\n",
        "id_list = list(set(id_list))"
      ],
      "metadata": {
        "id": "YSAZ0kl1bDRq"
      },
      "execution_count": null,
      "outputs": []
    },
    {
      "cell_type": "code",
      "source": [
        "def msd_id_to_dirs(msd_id):\n",
        "    \"\"\"Given an MSD ID, generate the path prefix.\n",
        "    E.g. TRABCD12345678 -> A/B/C/TRABCD12345678\"\"\"\n",
        "    return os.path.join(msd_id[2], msd_id[3], msd_id[4], msd_id)"
      ],
      "metadata": {
        "id": "8zDNbWlkbDPW"
      },
      "execution_count": null,
      "outputs": []
    },
    {
      "cell_type": "markdown",
      "source": [
        "id_listの中のidを、上のmsd_id_to_dirsで変換 \n",
        "\n",
        "該当する箇所にあるファイルをmidi形式に変換\n",
        "\n",
        "id名でlakh_midi_dir配下にファイル保存"
      ],
      "metadata": {
        "id": "ApGTEw8xbTLn"
      }
    },
    {
      "cell_type": "code",
      "source": [
        "for id in id_list: \n",
        "    song_dir = dataset_root / msd_id_to_dirs(id)\n",
        "    multitrack = pypianoroll.load(song_dir / os.listdir(song_dir)[0])\n",
        "    pypianoroll.write(path=lakh_midi_dir+\"/\"+id+\".mid\",multitrack=multitrack)\n",
        "#11th Gen Intel(R) Core(TM) i7-11700 @ 2.50GHzで36分くらいかかります。"
      ],
      "metadata": {
        "id": "JO2hUpQobDAB"
      },
      "execution_count": null,
      "outputs": []
    }
  ]
}